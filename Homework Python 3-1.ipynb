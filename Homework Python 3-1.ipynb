{
 "cells": [
  {
   "cell_type": "code",
   "execution_count": 1,
   "metadata": {},
   "outputs": [],
   "source": [
    "students = [\n",
    "    \"Harry Potter\",\n",
    "    \"Hermione Granger\",\n",
    "    \"Ron Weasley\",\n",
    "    \"Draco Malfoy\",\n",
    "    \"Luna Lovegood\",\n",
    "    \"Neville Longbottom\",\n",
    "    \"Ginny Weasley\",\n",
    "    \"Fred Weasley\",\n",
    "    \"George Weasley\",\n",
    "    \"Cho Chang\"\n",
    "]\n",
    "\n"
   ]
  },
  {
   "cell_type": "markdown",
   "metadata": {},
   "source": [
    "This code sets up the stduents in Harry Potter"
   ]
  },
  {
   "cell_type": "code",
   "execution_count": 2,
   "metadata": {},
   "outputs": [
    {
     "name": "stdout",
     "output_type": "stream",
     "text": [
      "Harry Potter\n",
      "Hermione Granger\n",
      "Ron Weasley\n",
      "Draco Malfoy\n",
      "Luna Lovegood\n",
      "Neville Longbottom\n",
      "Ginny Weasley\n",
      "Fred Weasley\n",
      "George Weasley\n",
      "Cho Chang\n"
     ]
    }
   ],
   "source": [
    "for student in students:\n",
    "    print(student)"
   ]
  }
 ],
 "metadata": {
  "kernelspec": {
   "display_name": "Python 3",
   "language": "python",
   "name": "python3"
  },
  "language_info": {
   "codemirror_mode": {
    "name": "ipython",
    "version": 3
   },
   "file_extension": ".py",
   "mimetype": "text/x-python",
   "name": "python",
   "nbconvert_exporter": "python",
   "pygments_lexer": "ipython3",
   "version": "3.11.5"
  }
 },
 "nbformat": 4,
 "nbformat_minor": 2
}
